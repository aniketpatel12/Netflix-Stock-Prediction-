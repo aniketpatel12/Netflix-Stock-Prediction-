{
 "cells": [
  {
   "cell_type": "code",
   "execution_count": 1,
   "metadata": {},
   "outputs": [],
   "source": [
    "import pandas as pd\n",
    "import numpy as np\n",
    "import quandl\n",
    "quandl.ApiConfig.api_key = 'sf6vPvynG4id8VymJUaH'\n",
    "import matplotlib.pyplot as plt\n",
    "%matplotlib inline\n",
    "plt.style.use('bmh')\n",
    "\n",
    "from sklearn.model_selection import train_test_split\n",
    "from sklearn.linear_model import LinearRegression\n",
    "from sklearn.tree import DecisionTreeRegressor\n"
   ]
  },
  {
   "cell_type": "code",
   "execution_count": 2,
   "metadata": {},
   "outputs": [
    {
     "data": {
      "text/html": [
       "<div>\n",
       "<style scoped>\n",
       "    .dataframe tbody tr th:only-of-type {\n",
       "        vertical-align: middle;\n",
       "    }\n",
       "\n",
       "    .dataframe tbody tr th {\n",
       "        vertical-align: top;\n",
       "    }\n",
       "\n",
       "    .dataframe thead th {\n",
       "        text-align: right;\n",
       "    }\n",
       "</style>\n",
       "<table border=\"1\" class=\"dataframe\">\n",
       "  <thead>\n",
       "    <tr style=\"text-align: right;\">\n",
       "      <th></th>\n",
       "      <th>Open</th>\n",
       "      <th>High</th>\n",
       "      <th>Low</th>\n",
       "      <th>Close</th>\n",
       "      <th>Volume</th>\n",
       "      <th>Ex-Dividend</th>\n",
       "      <th>Split Ratio</th>\n",
       "      <th>Adj. Open</th>\n",
       "      <th>Adj. High</th>\n",
       "      <th>Adj. Low</th>\n",
       "      <th>Adj. Close</th>\n",
       "      <th>Adj. Volume</th>\n",
       "    </tr>\n",
       "    <tr>\n",
       "      <th>Date</th>\n",
       "      <th></th>\n",
       "      <th></th>\n",
       "      <th></th>\n",
       "      <th></th>\n",
       "      <th></th>\n",
       "      <th></th>\n",
       "      <th></th>\n",
       "      <th></th>\n",
       "      <th></th>\n",
       "      <th></th>\n",
       "      <th></th>\n",
       "      <th></th>\n",
       "    </tr>\n",
       "  </thead>\n",
       "  <tbody>\n",
       "    <tr>\n",
       "      <td>2002-05-23</td>\n",
       "      <td>16.19</td>\n",
       "      <td>17.40</td>\n",
       "      <td>16.04</td>\n",
       "      <td>16.75</td>\n",
       "      <td>7485000.0</td>\n",
       "      <td>0.0</td>\n",
       "      <td>1.0</td>\n",
       "      <td>1.156429</td>\n",
       "      <td>1.242857</td>\n",
       "      <td>1.145714</td>\n",
       "      <td>1.196429</td>\n",
       "      <td>104790000.0</td>\n",
       "    </tr>\n",
       "    <tr>\n",
       "      <td>2002-05-24</td>\n",
       "      <td>17.00</td>\n",
       "      <td>17.15</td>\n",
       "      <td>16.76</td>\n",
       "      <td>16.94</td>\n",
       "      <td>793200.0</td>\n",
       "      <td>0.0</td>\n",
       "      <td>1.0</td>\n",
       "      <td>1.214286</td>\n",
       "      <td>1.225000</td>\n",
       "      <td>1.197143</td>\n",
       "      <td>1.210000</td>\n",
       "      <td>11104800.0</td>\n",
       "    </tr>\n",
       "    <tr>\n",
       "      <td>2002-05-28</td>\n",
       "      <td>16.99</td>\n",
       "      <td>17.25</td>\n",
       "      <td>16.20</td>\n",
       "      <td>16.20</td>\n",
       "      <td>472100.0</td>\n",
       "      <td>0.0</td>\n",
       "      <td>1.0</td>\n",
       "      <td>1.213571</td>\n",
       "      <td>1.232143</td>\n",
       "      <td>1.157143</td>\n",
       "      <td>1.157143</td>\n",
       "      <td>6609400.0</td>\n",
       "    </tr>\n",
       "    <tr>\n",
       "      <td>2002-05-29</td>\n",
       "      <td>16.30</td>\n",
       "      <td>16.30</td>\n",
       "      <td>15.20</td>\n",
       "      <td>15.45</td>\n",
       "      <td>482700.0</td>\n",
       "      <td>0.0</td>\n",
       "      <td>1.0</td>\n",
       "      <td>1.164286</td>\n",
       "      <td>1.164286</td>\n",
       "      <td>1.085714</td>\n",
       "      <td>1.103571</td>\n",
       "      <td>6757800.0</td>\n",
       "    </tr>\n",
       "    <tr>\n",
       "      <td>2002-05-30</td>\n",
       "      <td>15.51</td>\n",
       "      <td>15.51</td>\n",
       "      <td>15.00</td>\n",
       "      <td>15.00</td>\n",
       "      <td>725300.0</td>\n",
       "      <td>0.0</td>\n",
       "      <td>1.0</td>\n",
       "      <td>1.107857</td>\n",
       "      <td>1.107857</td>\n",
       "      <td>1.071429</td>\n",
       "      <td>1.071429</td>\n",
       "      <td>10154200.0</td>\n",
       "    </tr>\n",
       "  </tbody>\n",
       "</table>\n",
       "</div>"
      ],
      "text/plain": [
       "             Open   High    Low  Close     Volume  Ex-Dividend  Split Ratio  \\\n",
       "Date                                                                          \n",
       "2002-05-23  16.19  17.40  16.04  16.75  7485000.0          0.0          1.0   \n",
       "2002-05-24  17.00  17.15  16.76  16.94   793200.0          0.0          1.0   \n",
       "2002-05-28  16.99  17.25  16.20  16.20   472100.0          0.0          1.0   \n",
       "2002-05-29  16.30  16.30  15.20  15.45   482700.0          0.0          1.0   \n",
       "2002-05-30  15.51  15.51  15.00  15.00   725300.0          0.0          1.0   \n",
       "\n",
       "            Adj. Open  Adj. High  Adj. Low  Adj. Close  Adj. Volume  \n",
       "Date                                                                 \n",
       "2002-05-23   1.156429   1.242857  1.145714    1.196429  104790000.0  \n",
       "2002-05-24   1.214286   1.225000  1.197143    1.210000   11104800.0  \n",
       "2002-05-28   1.213571   1.232143  1.157143    1.157143    6609400.0  \n",
       "2002-05-29   1.164286   1.164286  1.085714    1.103571    6757800.0  \n",
       "2002-05-30   1.107857   1.107857  1.071429    1.071429   10154200.0  "
      ]
     },
     "execution_count": 2,
     "metadata": {},
     "output_type": "execute_result"
    }
   ],
   "source": [
    "df = quandl.get(\"WIKI/NFLX\", api_key='sf6vPvynG4id8VymJUaH')\n",
    "df.head()"
   ]
  },
  {
   "cell_type": "code",
   "execution_count": 3,
   "metadata": {},
   "outputs": [
    {
     "data": {
      "text/html": [
       "<div>\n",
       "<style scoped>\n",
       "    .dataframe tbody tr th:only-of-type {\n",
       "        vertical-align: middle;\n",
       "    }\n",
       "\n",
       "    .dataframe tbody tr th {\n",
       "        vertical-align: top;\n",
       "    }\n",
       "\n",
       "    .dataframe thead th {\n",
       "        text-align: right;\n",
       "    }\n",
       "</style>\n",
       "<table border=\"1\" class=\"dataframe\">\n",
       "  <thead>\n",
       "    <tr style=\"text-align: right;\">\n",
       "      <th></th>\n",
       "      <th>Open</th>\n",
       "      <th>High</th>\n",
       "      <th>Low</th>\n",
       "      <th>Close</th>\n",
       "      <th>Volume</th>\n",
       "      <th>Ex-Dividend</th>\n",
       "      <th>Split Ratio</th>\n",
       "      <th>Adj. Open</th>\n",
       "      <th>Adj. High</th>\n",
       "      <th>Adj. Low</th>\n",
       "      <th>Adj. Close</th>\n",
       "      <th>Adj. Volume</th>\n",
       "    </tr>\n",
       "    <tr>\n",
       "      <th>Date</th>\n",
       "      <th></th>\n",
       "      <th></th>\n",
       "      <th></th>\n",
       "      <th></th>\n",
       "      <th></th>\n",
       "      <th></th>\n",
       "      <th></th>\n",
       "      <th></th>\n",
       "      <th></th>\n",
       "      <th></th>\n",
       "      <th></th>\n",
       "      <th></th>\n",
       "    </tr>\n",
       "  </thead>\n",
       "  <tbody>\n",
       "    <tr>\n",
       "      <td>2018-03-21</td>\n",
       "      <td>316.35</td>\n",
       "      <td>319.40</td>\n",
       "      <td>314.511</td>\n",
       "      <td>316.48</td>\n",
       "      <td>5016980.0</td>\n",
       "      <td>0.0</td>\n",
       "      <td>1.0</td>\n",
       "      <td>316.35</td>\n",
       "      <td>319.40</td>\n",
       "      <td>314.511</td>\n",
       "      <td>316.48</td>\n",
       "      <td>5016980.0</td>\n",
       "    </tr>\n",
       "    <tr>\n",
       "      <td>2018-03-22</td>\n",
       "      <td>313.07</td>\n",
       "      <td>314.12</td>\n",
       "      <td>305.660</td>\n",
       "      <td>306.70</td>\n",
       "      <td>7920524.0</td>\n",
       "      <td>0.0</td>\n",
       "      <td>1.0</td>\n",
       "      <td>313.07</td>\n",
       "      <td>314.12</td>\n",
       "      <td>305.660</td>\n",
       "      <td>306.70</td>\n",
       "      <td>7920524.0</td>\n",
       "    </tr>\n",
       "    <tr>\n",
       "      <td>2018-03-23</td>\n",
       "      <td>307.41</td>\n",
       "      <td>310.73</td>\n",
       "      <td>300.360</td>\n",
       "      <td>300.94</td>\n",
       "      <td>9226978.0</td>\n",
       "      <td>0.0</td>\n",
       "      <td>1.0</td>\n",
       "      <td>307.41</td>\n",
       "      <td>310.73</td>\n",
       "      <td>300.360</td>\n",
       "      <td>300.94</td>\n",
       "      <td>9226978.0</td>\n",
       "    </tr>\n",
       "    <tr>\n",
       "      <td>2018-03-26</td>\n",
       "      <td>309.36</td>\n",
       "      <td>321.03</td>\n",
       "      <td>302.000</td>\n",
       "      <td>320.35</td>\n",
       "      <td>11906279.0</td>\n",
       "      <td>0.0</td>\n",
       "      <td>1.0</td>\n",
       "      <td>309.36</td>\n",
       "      <td>321.03</td>\n",
       "      <td>302.000</td>\n",
       "      <td>320.35</td>\n",
       "      <td>11906279.0</td>\n",
       "    </tr>\n",
       "    <tr>\n",
       "      <td>2018-03-27</td>\n",
       "      <td>322.49</td>\n",
       "      <td>322.90</td>\n",
       "      <td>297.000</td>\n",
       "      <td>300.69</td>\n",
       "      <td>11890994.0</td>\n",
       "      <td>0.0</td>\n",
       "      <td>1.0</td>\n",
       "      <td>322.49</td>\n",
       "      <td>322.90</td>\n",
       "      <td>297.000</td>\n",
       "      <td>300.69</td>\n",
       "      <td>11890994.0</td>\n",
       "    </tr>\n",
       "  </tbody>\n",
       "</table>\n",
       "</div>"
      ],
      "text/plain": [
       "              Open    High      Low   Close      Volume  Ex-Dividend  \\\n",
       "Date                                                                   \n",
       "2018-03-21  316.35  319.40  314.511  316.48   5016980.0          0.0   \n",
       "2018-03-22  313.07  314.12  305.660  306.70   7920524.0          0.0   \n",
       "2018-03-23  307.41  310.73  300.360  300.94   9226978.0          0.0   \n",
       "2018-03-26  309.36  321.03  302.000  320.35  11906279.0          0.0   \n",
       "2018-03-27  322.49  322.90  297.000  300.69  11890994.0          0.0   \n",
       "\n",
       "            Split Ratio  Adj. Open  Adj. High  Adj. Low  Adj. Close  \\\n",
       "Date                                                                  \n",
       "2018-03-21          1.0     316.35     319.40   314.511      316.48   \n",
       "2018-03-22          1.0     313.07     314.12   305.660      306.70   \n",
       "2018-03-23          1.0     307.41     310.73   300.360      300.94   \n",
       "2018-03-26          1.0     309.36     321.03   302.000      320.35   \n",
       "2018-03-27          1.0     322.49     322.90   297.000      300.69   \n",
       "\n",
       "            Adj. Volume  \n",
       "Date                     \n",
       "2018-03-21    5016980.0  \n",
       "2018-03-22    7920524.0  \n",
       "2018-03-23    9226978.0  \n",
       "2018-03-26   11906279.0  \n",
       "2018-03-27   11890994.0  "
      ]
     },
     "execution_count": 3,
     "metadata": {},
     "output_type": "execute_result"
    }
   ],
   "source": [
    "df.tail()"
   ]
  },
  {
   "cell_type": "code",
   "execution_count": 4,
   "metadata": {},
   "outputs": [
    {
     "data": {
      "text/plain": [
       "(3988, 12)"
      ]
     },
     "execution_count": 4,
     "metadata": {},
     "output_type": "execute_result"
    }
   ],
   "source": [
    "df.shape"
   ]
  },
  {
   "cell_type": "code",
   "execution_count": 5,
   "metadata": {},
   "outputs": [
    {
     "data": {
      "text/plain": [
       "Index(['Open', 'High', 'Low', 'Close', 'Volume', 'Ex-Dividend', 'Split Ratio',\n",
       "       'Adj. Open', 'Adj. High', 'Adj. Low', 'Adj. Close', 'Adj. Volume'],\n",
       "      dtype='object')"
      ]
     },
     "execution_count": 5,
     "metadata": {},
     "output_type": "execute_result"
    }
   ],
   "source": [
    "df.columns"
   ]
  },
  {
   "cell_type": "code",
   "execution_count": 6,
   "metadata": {},
   "outputs": [
    {
     "data": {
      "text/html": [
       "<div>\n",
       "<style scoped>\n",
       "    .dataframe tbody tr th:only-of-type {\n",
       "        vertical-align: middle;\n",
       "    }\n",
       "\n",
       "    .dataframe tbody tr th {\n",
       "        vertical-align: top;\n",
       "    }\n",
       "\n",
       "    .dataframe thead th {\n",
       "        text-align: right;\n",
       "    }\n",
       "</style>\n",
       "<table border=\"1\" class=\"dataframe\">\n",
       "  <thead>\n",
       "    <tr style=\"text-align: right;\">\n",
       "      <th></th>\n",
       "      <th>Close</th>\n",
       "    </tr>\n",
       "    <tr>\n",
       "      <th>Date</th>\n",
       "      <th></th>\n",
       "    </tr>\n",
       "  </thead>\n",
       "  <tbody>\n",
       "    <tr>\n",
       "      <td>2002-05-23</td>\n",
       "      <td>16.75</td>\n",
       "    </tr>\n",
       "    <tr>\n",
       "      <td>2002-05-24</td>\n",
       "      <td>16.94</td>\n",
       "    </tr>\n",
       "    <tr>\n",
       "      <td>2002-05-28</td>\n",
       "      <td>16.20</td>\n",
       "    </tr>\n",
       "    <tr>\n",
       "      <td>2002-05-29</td>\n",
       "      <td>15.45</td>\n",
       "    </tr>\n",
       "    <tr>\n",
       "      <td>2002-05-30</td>\n",
       "      <td>15.00</td>\n",
       "    </tr>\n",
       "  </tbody>\n",
       "</table>\n",
       "</div>"
      ],
      "text/plain": [
       "            Close\n",
       "Date             \n",
       "2002-05-23  16.75\n",
       "2002-05-24  16.94\n",
       "2002-05-28  16.20\n",
       "2002-05-29  15.45\n",
       "2002-05-30  15.00"
      ]
     },
     "execution_count": 6,
     "metadata": {},
     "output_type": "execute_result"
    }
   ],
   "source": [
    "df = df[['Close']]\n",
    "df.head()"
   ]
  },
  {
   "cell_type": "code",
   "execution_count": 8,
   "metadata": {
    "scrolled": true
   },
   "outputs": [
    {
     "data": {
      "text/html": [
       "<div>\n",
       "<style scoped>\n",
       "    .dataframe tbody tr th:only-of-type {\n",
       "        vertical-align: middle;\n",
       "    }\n",
       "\n",
       "    .dataframe tbody tr th {\n",
       "        vertical-align: top;\n",
       "    }\n",
       "\n",
       "    .dataframe thead th {\n",
       "        text-align: right;\n",
       "    }\n",
       "</style>\n",
       "<table border=\"1\" class=\"dataframe\">\n",
       "  <thead>\n",
       "    <tr style=\"text-align: right;\">\n",
       "      <th></th>\n",
       "      <th>Close</th>\n",
       "      <th>Prediction</th>\n",
       "    </tr>\n",
       "    <tr>\n",
       "      <th>Date</th>\n",
       "      <th></th>\n",
       "      <th></th>\n",
       "    </tr>\n",
       "  </thead>\n",
       "  <tbody>\n",
       "    <tr>\n",
       "      <td>2018-02-13</td>\n",
       "      <td>258.27</td>\n",
       "      <td>NaN</td>\n",
       "    </tr>\n",
       "    <tr>\n",
       "      <td>2018-02-14</td>\n",
       "      <td>266.00</td>\n",
       "      <td>NaN</td>\n",
       "    </tr>\n",
       "    <tr>\n",
       "      <td>2018-02-15</td>\n",
       "      <td>280.27</td>\n",
       "      <td>NaN</td>\n",
       "    </tr>\n",
       "    <tr>\n",
       "      <td>2018-02-16</td>\n",
       "      <td>278.52</td>\n",
       "      <td>NaN</td>\n",
       "    </tr>\n",
       "    <tr>\n",
       "      <td>2018-02-20</td>\n",
       "      <td>278.55</td>\n",
       "      <td>NaN</td>\n",
       "    </tr>\n",
       "    <tr>\n",
       "      <td>2018-02-21</td>\n",
       "      <td>281.04</td>\n",
       "      <td>NaN</td>\n",
       "    </tr>\n",
       "    <tr>\n",
       "      <td>2018-02-22</td>\n",
       "      <td>278.14</td>\n",
       "      <td>NaN</td>\n",
       "    </tr>\n",
       "    <tr>\n",
       "      <td>2018-02-23</td>\n",
       "      <td>285.93</td>\n",
       "      <td>NaN</td>\n",
       "    </tr>\n",
       "    <tr>\n",
       "      <td>2018-02-26</td>\n",
       "      <td>294.16</td>\n",
       "      <td>NaN</td>\n",
       "    </tr>\n",
       "    <tr>\n",
       "      <td>2018-02-27</td>\n",
       "      <td>290.61</td>\n",
       "      <td>NaN</td>\n",
       "    </tr>\n",
       "    <tr>\n",
       "      <td>2018-02-28</td>\n",
       "      <td>291.38</td>\n",
       "      <td>NaN</td>\n",
       "    </tr>\n",
       "    <tr>\n",
       "      <td>2018-03-01</td>\n",
       "      <td>290.39</td>\n",
       "      <td>NaN</td>\n",
       "    </tr>\n",
       "    <tr>\n",
       "      <td>2018-03-02</td>\n",
       "      <td>301.05</td>\n",
       "      <td>NaN</td>\n",
       "    </tr>\n",
       "    <tr>\n",
       "      <td>2018-03-05</td>\n",
       "      <td>315.00</td>\n",
       "      <td>NaN</td>\n",
       "    </tr>\n",
       "    <tr>\n",
       "      <td>2018-03-06</td>\n",
       "      <td>325.22</td>\n",
       "      <td>NaN</td>\n",
       "    </tr>\n",
       "    <tr>\n",
       "      <td>2018-03-07</td>\n",
       "      <td>321.16</td>\n",
       "      <td>NaN</td>\n",
       "    </tr>\n",
       "    <tr>\n",
       "      <td>2018-03-08</td>\n",
       "      <td>317.00</td>\n",
       "      <td>NaN</td>\n",
       "    </tr>\n",
       "    <tr>\n",
       "      <td>2018-03-09</td>\n",
       "      <td>331.44</td>\n",
       "      <td>NaN</td>\n",
       "    </tr>\n",
       "    <tr>\n",
       "      <td>2018-03-12</td>\n",
       "      <td>321.30</td>\n",
       "      <td>NaN</td>\n",
       "    </tr>\n",
       "    <tr>\n",
       "      <td>2018-03-13</td>\n",
       "      <td>315.88</td>\n",
       "      <td>NaN</td>\n",
       "    </tr>\n",
       "    <tr>\n",
       "      <td>2018-03-14</td>\n",
       "      <td>321.55</td>\n",
       "      <td>NaN</td>\n",
       "    </tr>\n",
       "    <tr>\n",
       "      <td>2018-03-15</td>\n",
       "      <td>321.09</td>\n",
       "      <td>NaN</td>\n",
       "    </tr>\n",
       "    <tr>\n",
       "      <td>2018-03-16</td>\n",
       "      <td>318.45</td>\n",
       "      <td>NaN</td>\n",
       "    </tr>\n",
       "    <tr>\n",
       "      <td>2018-03-19</td>\n",
       "      <td>313.48</td>\n",
       "      <td>NaN</td>\n",
       "    </tr>\n",
       "    <tr>\n",
       "      <td>2018-03-20</td>\n",
       "      <td>317.50</td>\n",
       "      <td>NaN</td>\n",
       "    </tr>\n",
       "    <tr>\n",
       "      <td>2018-03-21</td>\n",
       "      <td>316.48</td>\n",
       "      <td>NaN</td>\n",
       "    </tr>\n",
       "    <tr>\n",
       "      <td>2018-03-22</td>\n",
       "      <td>306.70</td>\n",
       "      <td>NaN</td>\n",
       "    </tr>\n",
       "    <tr>\n",
       "      <td>2018-03-23</td>\n",
       "      <td>300.94</td>\n",
       "      <td>NaN</td>\n",
       "    </tr>\n",
       "    <tr>\n",
       "      <td>2018-03-26</td>\n",
       "      <td>320.35</td>\n",
       "      <td>NaN</td>\n",
       "    </tr>\n",
       "    <tr>\n",
       "      <td>2018-03-27</td>\n",
       "      <td>300.69</td>\n",
       "      <td>NaN</td>\n",
       "    </tr>\n",
       "  </tbody>\n",
       "</table>\n",
       "</div>"
      ],
      "text/plain": [
       "             Close  Prediction\n",
       "Date                          \n",
       "2018-02-13  258.27         NaN\n",
       "2018-02-14  266.00         NaN\n",
       "2018-02-15  280.27         NaN\n",
       "2018-02-16  278.52         NaN\n",
       "2018-02-20  278.55         NaN\n",
       "2018-02-21  281.04         NaN\n",
       "2018-02-22  278.14         NaN\n",
       "2018-02-23  285.93         NaN\n",
       "2018-02-26  294.16         NaN\n",
       "2018-02-27  290.61         NaN\n",
       "2018-02-28  291.38         NaN\n",
       "2018-03-01  290.39         NaN\n",
       "2018-03-02  301.05         NaN\n",
       "2018-03-05  315.00         NaN\n",
       "2018-03-06  325.22         NaN\n",
       "2018-03-07  321.16         NaN\n",
       "2018-03-08  317.00         NaN\n",
       "2018-03-09  331.44         NaN\n",
       "2018-03-12  321.30         NaN\n",
       "2018-03-13  315.88         NaN\n",
       "2018-03-14  321.55         NaN\n",
       "2018-03-15  321.09         NaN\n",
       "2018-03-16  318.45         NaN\n",
       "2018-03-19  313.48         NaN\n",
       "2018-03-20  317.50         NaN\n",
       "2018-03-21  316.48         NaN\n",
       "2018-03-22  306.70         NaN\n",
       "2018-03-23  300.94         NaN\n",
       "2018-03-26  320.35         NaN\n",
       "2018-03-27  300.69         NaN"
      ]
     },
     "execution_count": 8,
     "metadata": {},
     "output_type": "execute_result"
    }
   ],
   "source": [
    "forecast_days = 30\n",
    "\n",
    "df['Prediction'] = df[['Close']].shift(-forecast_days)\n",
    "df.tail(forecast_days)"
   ]
  },
  {
   "cell_type": "code",
   "execution_count": 9,
   "metadata": {},
   "outputs": [
    {
     "name": "stdout",
     "output_type": "stream",
     "text": [
      "[[ 16.75  ]\n",
      " [ 16.94  ]\n",
      " [ 16.2   ]\n",
      " ...\n",
      " [250.0542]\n",
      " [249.18  ]\n",
      " [257.95  ]]\n"
     ]
    }
   ],
   "source": [
    "#independet var\n",
    "x  = np.array(df.drop(['Prediction'], 1))\n",
    "x = x[:-forecast_days]\n",
    "print(x)"
   ]
  },
  {
   "cell_type": "code",
   "execution_count": 10,
   "metadata": {},
   "outputs": [
    {
     "name": "stdout",
     "output_type": "stream",
     "text": [
      "[ 16.46  16.25  16.29 ... 300.94 320.35 300.69]\n"
     ]
    }
   ],
   "source": [
    "#dependent var \n",
    "y = np.array(df['Prediction'])\n",
    "y = y[:-forecast_days]\n",
    "print(y)"
   ]
  },
  {
   "cell_type": "code",
   "execution_count": 11,
   "metadata": {},
   "outputs": [],
   "source": [
    "x_train, x_test, y_train, y_test = train_test_split(x, y , test_size=0.2)"
   ]
  },
  {
   "cell_type": "code",
   "execution_count": 12,
   "metadata": {},
   "outputs": [
    {
     "data": {
      "text/plain": [
       "DecisionTreeRegressor(criterion='mse', max_depth=None, max_features=None,\n",
       "                      max_leaf_nodes=None, min_impurity_decrease=0.0,\n",
       "                      min_impurity_split=None, min_samples_leaf=1,\n",
       "                      min_samples_split=2, min_weight_fraction_leaf=0.0,\n",
       "                      presort=False, random_state=None, splitter='best')"
      ]
     },
     "execution_count": 12,
     "metadata": {},
     "output_type": "execute_result"
    }
   ],
   "source": [
    "tree = DecisionTreeRegressor()\n",
    "tree.fit(x_test, y_test)"
   ]
  },
  {
   "cell_type": "code",
   "execution_count": 14,
   "metadata": {},
   "outputs": [
    {
     "name": "stdout",
     "output_type": "stream",
     "text": [
      "Decision Tree Score: 0.9998727028213841\n"
     ]
    }
   ],
   "source": [
    "tree_score = tree.score(x_test, y_test)\n",
    "print(\"Decision Tree Score:\", tree_score)"
   ]
  },
  {
   "cell_type": "code",
   "execution_count": 15,
   "metadata": {},
   "outputs": [
    {
     "data": {
      "text/plain": [
       "LinearRegression(copy_X=True, fit_intercept=True, n_jobs=None, normalize=False)"
      ]
     },
     "execution_count": 15,
     "metadata": {},
     "output_type": "execute_result"
    }
   ],
   "source": [
    "lr_regressor = LinearRegression()\n",
    "lr_regressor.fit(x_test, y_test)"
   ]
  },
  {
   "cell_type": "code",
   "execution_count": 16,
   "metadata": {},
   "outputs": [
    {
     "name": "stdout",
     "output_type": "stream",
     "text": [
      "Linear Regression score:  0.840818161066979\n"
     ]
    }
   ],
   "source": [
    "lr_score = lr_regressor.score(x_test, y_test)\n",
    "print(\"Linear Regression score: \", lr_score)"
   ]
  },
  {
   "cell_type": "code",
   "execution_count": 17,
   "metadata": {},
   "outputs": [
    {
     "data": {
      "text/plain": [
       "array([[191.96  ],\n",
       "       [201.07  ],\n",
       "       [205.05  ],\n",
       "       [205.63  ],\n",
       "       [209.99  ],\n",
       "       [212.05  ],\n",
       "       [209.31  ],\n",
       "       [212.52  ],\n",
       "       [217.24  ],\n",
       "       [221.23  ],\n",
       "       [221.53  ],\n",
       "       [217.5   ],\n",
       "       [220.33  ],\n",
       "       [220.46  ],\n",
       "       [227.58  ],\n",
       "       [250.29  ],\n",
       "       [261.279 ],\n",
       "       [269.74  ],\n",
       "       [274.6   ],\n",
       "       [284.59  ],\n",
       "       [278.8   ],\n",
       "       [270.3   ],\n",
       "       [265.07  ],\n",
       "       [267.43  ],\n",
       "       [255.59  ],\n",
       "       [265.72  ],\n",
       "       [264.56  ],\n",
       "       [250.0542],\n",
       "       [249.18  ],\n",
       "       [257.95  ]])"
      ]
     },
     "execution_count": 17,
     "metadata": {},
     "output_type": "execute_result"
    }
   ],
   "source": [
    "x_forecast = df.drop(['Prediction'], 1)[:-forecast_days]\n",
    "x_forecast = x_forecast.tail(forecast_days)\n",
    "x_forecast = np.array(x_forecast)\n",
    "x_forecast\n"
   ]
  },
  {
   "cell_type": "code",
   "execution_count": 19,
   "metadata": {},
   "outputs": [
    {
     "data": {
      "text/plain": [
       "array([258.27 , 187.58 , 280.27 , 113.25 , 204.541, 285.93 , 204.541,\n",
       "       285.93 , 223.46 , 261.81 , 261.81 , 223.46 , 212.84 , 212.84 ,\n",
       "       247.6  , 321.16 , 313.51 , 331.44 , 233.27 , 315.88 , 218.77 ,\n",
       "       331.44 , 210.05 , 203.97 , 317.5  , 210.05 , 210.05 , 321.16 ,\n",
       "       305.65 , 266.62 ])"
      ]
     },
     "execution_count": 19,
     "metadata": {},
     "output_type": "execute_result"
    }
   ],
   "source": [
    "tree_pr = tree.predict(x_forecast)\n",
    "tree_pr"
   ]
  },
  {
   "cell_type": "code",
   "execution_count": 20,
   "metadata": {},
   "outputs": [
    {
     "data": {
      "text/plain": [
       "array([187.93443105, 196.35295539, 200.03086174, 200.56683805,\n",
       "       204.59590129, 206.49954126, 203.96751528, 206.93386688,\n",
       "       211.29560507, 214.98275239, 215.25998152, 211.53587031,\n",
       "       214.15106503, 214.27119765, 220.85076881, 241.83701335,\n",
       "       251.99191609, 259.81070143, 264.30181321, 273.53354298,\n",
       "       268.18302092, 260.3281958 , 255.4951681 , 257.67603719,\n",
       "       246.73472784, 256.0958312 , 255.02387859, 241.61911126,\n",
       "       240.8112656 , 248.91559694])"
      ]
     },
     "execution_count": 20,
     "metadata": {},
     "output_type": "execute_result"
    }
   ],
   "source": [
    "lr_pr = lr_regressor.predict(x_forecast)\n",
    "lr_pr"
   ]
  },
  {
   "cell_type": "code",
   "execution_count": 26,
   "metadata": {},
   "outputs": [
    {
     "name": "stderr",
     "output_type": "stream",
     "text": [
      "C:\\Users\\WINDOWS_10\\Anaconda3\\lib\\site-packages\\ipykernel_launcher.py:4: SettingWithCopyWarning: \n",
      "A value is trying to be set on a copy of a slice from a DataFrame.\n",
      "Try using .loc[row_indexer,col_indexer] = value instead\n",
      "\n",
      "See the caveats in the documentation: http://pandas.pydata.org/pandas-docs/stable/user_guide/indexing.html#returning-a-view-versus-a-copy\n",
      "  after removing the cwd from sys.path.\n"
     ]
    },
    {
     "data": {
      "image/png": "[encoded data removed]",
      "text/plain": [
       "<Figure size 1152x576 with 1 Axes>"
      ]
     },
     "metadata": {
      "needs_background": "light"
     },
     "output_type": "display_data"
    }
   ],
   "source": [
    "prediction = tree_pr\n",
    "\n",
    "final = df[x.shape[0]:]\n",
    "final['Prediction'] = prediction\n",
    "plt.figure(figsize=(16,8))\n",
    "plt.plot(df['Close'])\n",
    "plt.plot(final[['Close', 'Prediction']])\n",
    "plt.title('Stock Prediction of Netflix')\n",
    "plt.xlabel('Years')\n",
    "plt.ylabel('Close Price($)')\n",
    "plt.legend(['Open', 'Close', 'Prediction'])\n",
    "plt.show()"
   ]
  }
 ],
 "metadata": {
  "kernelspec": {
   "display_name": "Python 3",
   "language": "python",
   "name": "python3"
  },
  "language_info": {
   "codemirror_mode": {
    "name": "ipython",
    "version": 3
   },
   "file_extension": ".py",
   "mimetype": "text/x-python",
   "name": "python",
   "nbconvert_exporter": "python",
   "pygments_lexer": "ipython3",
   "version": "3.7.4"
  }
 },
 "nbformat": 4,
 "nbformat_minor": 2
}
